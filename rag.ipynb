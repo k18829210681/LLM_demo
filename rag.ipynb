{
 "cells": [
  {
   "cell_type": "code",
   "execution_count": 1,
   "id": "5b3832ab",
   "metadata": {},
   "outputs": [],
   "source": [
    "import os\n",
    "import requests\n",
    "import random\n",
    "import matplotlib.pyplot as plt\n",
    "import pandas as pd\n",
    "# \"https://pressbooks.oer.hawaii.edu/humannutrition2/open/download?type=pdf\"\n",
    "pdf_path = \"human-nutrition-text.pdf\""
   ]
  },
  {
   "cell_type": "code",
   "execution_count": 2,
   "id": "e197e3b0",
   "metadata": {},
   "outputs": [
    {
     "name": "stderr",
     "output_type": "stream",
     "text": [
      "c:\\Users\\Zekai\\miniconda3\\Lib\\site-packages\\tqdm\\auto.py:21: TqdmWarning: IProgress not found. Please update jupyter and ipywidgets. See https://ipywidgets.readthedocs.io/en/stable/user_install.html\n",
      "  from .autonotebook import tqdm as notebook_tqdm\n",
      "1208it [00:00, 1390.50it/s]\n"
     ]
    }
   ],
   "source": [
    "import fitz \n",
    "from tqdm.auto import tqdm \n",
    "\n",
    "# convert pdf to text\n",
    "doc = fitz.open(pdf_path) \n",
    "pages_and_texts = []\n",
    "for page_number, page in tqdm(enumerate(doc)):\n",
    "    text = page.get_text() \n",
    "    text = text.replace(\"\\n\", \" \").strip()\n",
    "    pages_and_texts.append({\"page_number\": page_number+1,  \"text\": text})"
   ]
  },
  {
   "cell_type": "code",
   "execution_count": 3,
   "id": "e769115a",
   "metadata": {},
   "outputs": [
    {
     "name": "stderr",
     "output_type": "stream",
     "text": [
      "100%|██████████| 1208/1208 [00:01<00:00, 828.03it/s]\n"
     ]
    }
   ],
   "source": [
    "from spacy.lang.en import English \n",
    "\n",
    "# seperate text into sentences\n",
    "nlp = English()\n",
    "nlp.add_pipe(\"sentencizer\")\n",
    "for item in tqdm(pages_and_texts):\n",
    "    item[\"sentences\"] = list(nlp(item[\"text\"]).sents)\n",
    "    # Make sure all sentences are strings\n",
    "    item[\"sentences\"] = [str(sentence) for sentence in item[\"sentences\"]]\n"
   ]
  },
  {
   "cell_type": "code",
   "execution_count": 4,
   "id": "b99f341e",
   "metadata": {},
   "outputs": [],
   "source": [
    "# stats\n",
    "sents_pages = []\n",
    "for item in pages_and_texts:\n",
    "    for s in item['sentences']:\n",
    "        sents_pages.append({'page': item['page_number'], 'text': s, 'char_count': len(s), 'word_count': len(s.split(' '))})"
   ]
  },
  {
   "cell_type": "code",
   "execution_count": 5,
   "id": "9bf83ed4",
   "metadata": {},
   "outputs": [
    {
     "data": {
      "image/png": "[encoded data removed]",
      "text/plain": [
       "<Figure size 640x480 with 1 Axes>"
      ]
     },
     "metadata": {},
     "output_type": "display_data"
    }
   ],
   "source": [
    "sentence_char_count = [item['char_count'] for item in sents_pages]\n",
    "plt.hist(sentence_char_count, bins=100, edgecolor='black')\n",
    "plt.show()"
   ]
  },
  {
   "cell_type": "code",
   "execution_count": 6,
   "id": "731e2c28",
   "metadata": {},
   "outputs": [
    {
     "data": {
      "text/html": [
       "<div>\n",
       "<style scoped>\n",
       "    .dataframe tbody tr th:only-of-type {\n",
       "        vertical-align: middle;\n",
       "    }\n",
       "\n",
       "    .dataframe tbody tr th {\n",
       "        vertical-align: top;\n",
       "    }\n",
       "\n",
       "    .dataframe thead th {\n",
       "        text-align: right;\n",
       "    }\n",
       "</style>\n",
       "<table border=\"1\" class=\"dataframe\">\n",
       "  <thead>\n",
       "    <tr style=\"text-align: right;\">\n",
       "      <th></th>\n",
       "      <th>0</th>\n",
       "    </tr>\n",
       "  </thead>\n",
       "  <tbody>\n",
       "    <tr>\n",
       "      <th>count</th>\n",
       "      <td>12466.000000</td>\n",
       "    </tr>\n",
       "    <tr>\n",
       "      <th>mean</th>\n",
       "      <td>110.413284</td>\n",
       "    </tr>\n",
       "    <tr>\n",
       "      <th>std</th>\n",
       "      <td>95.731982</td>\n",
       "    </tr>\n",
       "    <tr>\n",
       "      <th>min</th>\n",
       "      <td>2.000000</td>\n",
       "    </tr>\n",
       "    <tr>\n",
       "      <th>25%</th>\n",
       "      <td>50.000000</td>\n",
       "    </tr>\n",
       "    <tr>\n",
       "      <th>50%</th>\n",
       "      <td>95.000000</td>\n",
       "    </tr>\n",
       "    <tr>\n",
       "      <th>75%</th>\n",
       "      <td>145.000000</td>\n",
       "    </tr>\n",
       "    <tr>\n",
       "      <th>max</th>\n",
       "      <td>1769.000000</td>\n",
       "    </tr>\n",
       "  </tbody>\n",
       "</table>\n",
       "</div>"
      ],
      "text/plain": [
       "                  0\n",
       "count  12466.000000\n",
       "mean     110.413284\n",
       "std       95.731982\n",
       "min        2.000000\n",
       "25%       50.000000\n",
       "50%       95.000000\n",
       "75%      145.000000\n",
       "max     1769.000000"
      ]
     },
     "execution_count": 6,
     "metadata": {},
     "output_type": "execute_result"
    }
   ],
   "source": [
    "pd.DataFrame(sentence_char_count).describe()"
   ]
  },
  {
   "cell_type": "code",
   "execution_count": 7,
   "id": "37e2bcd7",
   "metadata": {},
   "outputs": [],
   "source": [
    "# split long sentences into short ones less then 500\n",
    "def split_string(s, chunk_size=500):\n",
    "    return [s[i:i+chunk_size] for i in range(0, len(s), chunk_size)]\n",
    "\n",
    "sents_pages_new = []\n",
    "for item in sents_pages:\n",
    "    if item['char_count']>500:\n",
    "        new_sents = split_string(item['text'])\n",
    "        for s in new_sents:\n",
    "            sents_pages_new.append({'page': item['page'], 'text': s, 'char_count': len(s), 'word_count': len(s.split(' '))})\n",
    "    else:\n",
    "        sents_pages_new.append(item)\n",
    "\n",
    "sents_pages = sents_pages_new"
   ]
  },
  {
   "cell_type": "code",
   "execution_count": 8,
   "id": "827c23db",
   "metadata": {},
   "outputs": [
    {
     "data": {
      "image/png": "[encoded data removed]",
      "text/plain": [
       "<Figure size 640x480 with 1 Axes>"
      ]
     },
     "metadata": {},
     "output_type": "display_data"
    }
   ],
   "source": [
    "sentence_char_count = [item['char_count'] for item in sents_pages]\n",
    "plt.hist(sentence_char_count, bins=100, edgecolor='black')\n",
    "plt.show()"
   ]
  },
  {
   "cell_type": "code",
   "execution_count": 9,
   "id": "294f1121",
   "metadata": {},
   "outputs": [],
   "source": [
    "# sliding window through all the text\n",
    "# each chunk has up to 2000 chars, 50 % sentence overlap ratio\n",
    "# for sentence a b c d e f\n",
    "# first chunk: a b c d (total 1800 chars)\n",
    "# second chunk: c d e (total 1900 chars)\n",
    "# 3rd chunk: d e f ...\n",
    "# this overlaping help to improve recall\n",
    "\n",
    "limit=2000\n",
    "overlap_ratio=0.5\n",
    "\n",
    "chunks = []\n",
    "current_group = []\n",
    "current_length = 0\n",
    "i = 0\n",
    "\n",
    "while i < len(sents_pages):  \n",
    "    item = sents_pages[i]\n",
    "    # Check if adding this string would exceed the limit\n",
    "    if current_length + item['char_count'] > limit:\n",
    "        # Finalize current group\n",
    "        temp_sents = [temp_item['text'] for temp_item in current_group]\n",
    "        temp_pages = [temp_item['page'] for temp_item in current_group]\n",
    "        chunks.append({'pages': temp_pages, \"sentences\": temp_sents})\n",
    "        \n",
    "        overlap_count = max(1, int(len(current_group) * overlap_ratio))\n",
    "        # Start next group with overlapping strings from the end of current group\n",
    "        current_group = current_group[-overlap_count:]\n",
    "        current_length = sum([s['char_count'] for s in current_group])\n",
    "    \n",
    "    # Add the current string if it fits\n",
    "    else:\n",
    "        current_group.append(item)\n",
    "        current_length += (item['char_count']+1)\n",
    "        i += 1\n",
    "\n",
    "\n",
    "# Add the last group if it has content\n",
    "if current_group:\n",
    "    temp_sents = [temp_item['text'] for temp_item in current_group]\n",
    "    temp_pages = [temp_item['page'] for temp_item in current_group]\n",
    "    chunks.append({'pages': temp_pages, \"sentences\": temp_sents})"
   ]
  },
  {
   "cell_type": "code",
   "execution_count": null,
   "id": "75c25c1d",
   "metadata": {},
   "outputs": [
    {
     "data": {
      "image/png": "[encoded data removed]",
      "text/plain": [
       "<Figure size 640x480 with 1 Axes>"
      ]
     },
     "metadata": {},
     "output_type": "display_data"
    }
   ],
   "source": [
    "# plot chunk sizes. due to concatenation, some chunks is little bit over 2000\n",
    "chunk_char_count = [len(\" \".join(item['sentences'])) for item in chunks]\n",
    "plt.hist(chunk_char_count, bins=50, edgecolor='black')\n",
    "plt.show()"
   ]
  },
  {
   "cell_type": "code",
   "execution_count": 11,
   "id": "0d2eb612",
   "metadata": {},
   "outputs": [],
   "source": [
    "# make two arrays for page and documents\n",
    "# later when get index of neede documents, can get its page for better reference\n",
    "pages = []\n",
    "documents = []\n",
    "sentences = []\n",
    "for c in chunks:\n",
    "    pages.append(c['pages'])\n",
    "    documents.append(\" \".join(c['sentences']).replace(\"  \", \" \"))\n",
    "    sentences.append(c['sentences'])"
   ]
  },
  {
   "cell_type": "code",
   "execution_count": 12,
   "id": "1538e165",
   "metadata": {},
   "outputs": [],
   "source": [
    "from sentence_transformers import SentenceTransformer\n",
    "# Load the model\n",
    "model = SentenceTransformer(\"Qwen/Qwen3-Embedding-0.6B\", device='cuda')\n",
    "docu_embeddings = model.encode(documents, batch_size=8)"
   ]
  },
  {
   "cell_type": "code",
   "execution_count": 13,
   "id": "b9a418a3",
   "metadata": {},
   "outputs": [],
   "source": [
    "query = [\"how to measure protein quality\"]\n",
    "query_embeddings = model.encode(query, prompt_name=\"query\", batch_size=16)"
   ]
  },
  {
   "cell_type": "code",
   "execution_count": 14,
   "id": "29a76710",
   "metadata": {},
   "outputs": [],
   "source": [
    "similarity = model.similarity(query_embeddings, docu_embeddings)"
   ]
  },
  {
   "cell_type": "code",
   "execution_count": 15,
   "id": "ede5d14f",
   "metadata": {},
   "outputs": [],
   "source": [
    "import torch\n",
    "topk_vals, topk_idx = torch.topk(similarity, k=5)\n",
    "topk_idx = topk_idx.sort().values.numpy()[0]\n"
   ]
  },
  {
   "cell_type": "code",
   "execution_count": 16,
   "id": "fc1e71c9",
   "metadata": {},
   "outputs": [],
   "source": [
    "# get the pages \n",
    "context_pages = []\n",
    "context = []\n",
    "for i in topk_idx:\n",
    "    context.extend(sentences[i])\n",
    "    context_pages.extend(pages[i])"
   ]
  },
  {
   "cell_type": "code",
   "execution_count": 17,
   "id": "21082954",
   "metadata": {},
   "outputs": [],
   "source": [
    "from collections import OrderedDict\n",
    "\n",
    "# since we have overlap in chunks, we need deduplication\n",
    "# we want to keep the order of the content same as the pages, so use ordered dict\n",
    "context = list(OrderedDict.fromkeys(context))\n",
    "context_pages = list(OrderedDict.fromkeys(context_pages))"
   ]
  },
  {
   "cell_type": "code",
   "execution_count": null,
   "id": "30384033",
   "metadata": {},
   "outputs": [
    {
     "data": {
      "text/plain": [
       "'It is composed of four  peptides that bond together to form a functional oxygen carrier.  A protein’s structure also influences its nutritional quality. Large  fibrous protein structures are more difficult to digest than smaller  proteins and some, such as keratin, are indigestible. Because  digestion of some fibrous proteins is incomplete, not all of the  amino acids are absorbed and available for the body to utilize,  thereby decreasing their nutritional value.  Figure 6.5 The Four Structural Levels of Proteins  Defining Protein  |  371 Image by  OpenStax /  CC BY 4.0  Learning Activities  Technology Note: The second edition of the Human  Nutrition Open Educational Resource (OER) textbook  features interactive learning activities. \\xa0 These activities are  372  |  Defining Protein available in the web-based textbook and not available in the  downloadable versions (EPUB, Digital PDF, Print_PDF, or  Open Document).  Learning activities may be used across various mobile  devices, however, for the best user experience it is strongly  recommended that users complete these activities using a  desktop or laptop computer and in Google Chrome.  \\xa0 An interactive or media element has been  excluded from this version of the text. You can  view it online here:  http://pressbooks.oer.hawaii.edu/ humannutrition2/?p=246  \\xa0 An interactive or media element has been  excluded from this version of the text. You can  view it online here:  http://pressbooks.oer.hawaii.edu/ humannutrition2/?p=246  Defining Protein  |  373 The Role of Proteins in  Foods: Cooking and  Denaturation  UNIVERSITY OF HAWAI‘I AT MĀNOA FOOD SCIENCE AND HUMAN  NUTRITION PROGRAM AND HUMAN NUTRITION PROGRAM  In addition to having many vital functions within the body, proteins  perform different roles in our foods by adding certain functional  qualities to them. Protein provides food with structure and texture  and enables water retention. For example, proteins foam when  agitated. ( If you do  not eat meat, the USDA has much more information on how to get  all the protein you need from a plant-based diet. When choosing the  best protein-rich foods to eat, pay attention to the whole nutrient  package and remember to select from a variety of protein sources  to get all the other essential micronutrients.  Protein Quality  While protein is contained in a wide variety of foods, it differs in  quality. High-quality protein contains all the essential amino acids  in the proportions needed by the human body. The amino acid  profile of different foods is therefore one component of protein  quality. Foods that contain some of the essential amino acids are  called incomplete protein sources, while those that contain all nine  essential amino acids are called complete protein sources, or high- quality protein sources. Foods that are complete protein sources  include animal foods such as milk, cheese, eggs, fish, poultry, and  meat, and a few plant foods, such as soy and quinoa. The only  animal-based protein that is not complete is gelatin, which is made  of the protein, collagen.  Figure 6.18 Complete and Incomplete Protein Sources  414  |  Proteins, Diet, and Personal Choices Protein-rich  Foods by  Smastronard o / CC  BY-SA 4.0  Examples of complete protein sources include soy, dairy products,  meat, and seafood. Examples of incomplete protein sources include  legumes and corn.  Most plant-based foods are deficient in at least one essential  amino acid and therefore are incomplete protein sources. For  example, grains are usually deficient in the amino acid lysine, and  legumes are deficient in methionine or tryptophan. Because grains  and legumes are not deficient in the same amino acids they can  complement each other in a diet. Incomplete protein foods are  called complementary foods because when consumed in tandem  they contain all nine essential amino acids at adequate levels. Some  examples of complementary protein foods are given in Table 6.4  “Complementing Protein Sources the Vegan Way”. Complementary  protein sources do not have to be consumed at the same time—as  long as they are consumed within the same day, you will meet your  protein needs.  Table 6.4 Complementing Protein Sources the Vegan Way  Proteins, Diet, and Personal Choices  |  415 Foods  Lacking Amino  Acids  Complementary  Food  Complementary  Menu  Legumes  Methionine,  tryptophan  Grains, nuts,  and seeds  Hummus and  whole-wheat pita  Grains  Lysine, isoleucine,  threonine  Legumes  Cornbread and  kidney bean chili  Nuts and  seeds  Lysine, isoleucine  Legumes  Stir-fried tofu with  cashews  The second component of protein quality is digestibility, as not  all protein sources are equally digested. In general, animal-based  proteins are completely broken down during the process of  digestion, whereas plant-based proteins are not. This is because  some proteins are contained in the plant’s fibrous cell walls and  these pass through the digestive tract unabsorbed by the body.  Protein Digestibility Corrected Amino Acid  Score (PDCAAS)  The PDCAAS is a method adopted by the US Food and Drug  Administration (FDA) to determine a food’s protein quality. It is  calculated using a formula that incorporates the total amount of  amino acids in the food and the amount of protein in the food that  is actually digested by humans. The food’s protein quality is then  ranked against the foods highest in protein quality. Milk protein, egg  whites, whey, and soy all have a ranking of one, the highest ranking.  Other foods’ ranks are listed in Table 6.5 “PDCAAS of Various Foods”.  Table 6.5 PDCAAS of Various Foods  416  |  Proteins, Diet, and Personal Choices Food  PDCAAS*  Milk protein  1.00  Egg white  1.00  Whey  1.00  Soy protein  1.00  Beef  0.92  Soybeans  0.91  Chickpeas  0.78  Fruits  0.76  Vegetables  0.73  Whole wheat  0.42  *1 is the highest rank, 0 is the lowest  Protein Needs: Special Considerations  Some groups may need to examine how to meet their protein needs  more closely than others. We will take a closer look at the special  protein considerations for vegetarians, the elderly, and athletes.  Vegetarians and Vegans  People who follow variations of the vegetarian diet and consume  eggs and/or dairy products can meet their protein requirements  by consuming adequate amounts of these foods. Vegetarians and  vegans can also attain their recommended protein intakes if they  give a little more attention to high-quality plant-based protein  sources. However, when following a vegetarian diet, the amino acid  lysine can be challenging to acquire. Grains, nuts, and seeds are  lysine-poor foods, but tofu, soy, quinoa, and pistachios are all good  Proteins, Diet, and Personal Choices  |  417 sources of lysine. Following a vegetarian diet and getting the  recommended protein intake is also made a little more difficult  because the digestibility of plant-based protein sources is lower  than the digestibility of animal-based protein. \\xa0American College of Sports Medicine, Academy of  Nutrition and Dietetics, and Dietitians of Canada. ( 2009).  Joint Position Statement: Nutrition and Athletic  Performance. Medicine & Science in Sports & Exercise,  41(3), 709-31. http://journals.lww.com/acsm-msse/ fulltext/2009/03000/ Nutrition_and_Athletic_Performance.27.aspx. Accessed  September 28, 2017.  6. \\xa0Gleeson, M. (2005). Interrelationship between Physical  424  |  Proteins, Diet, and Personal Choices Moreover, the author of this review claims that high-quality  protein foods are a better and cheaper source for branched-chain  amino acids and says that a chicken breast (100 grams) contains  the equivalent of seven times the amount of branched-chain amino  acids as one supplement tablet. This means if you are interested  in enhancing exercise performance or building muscle, you do not  need to support the $20 billion supplement industry.  Although the evidence for protein and amino acid supplements  impacting athletic performance is lacking, there is some scientific  evidence that supports consuming high-quality dairy proteins, such  as casein and whey, and soy proteins positively influences muscle  recovery in response to hard training. If you choose to buy a bucket  of whey protein, use it to make a protein shake after an intense  workout and do not add more than what is required to obtain 20  to 25 grams of protein. As always, choosing high-quality protein  foods will help you build muscle and not empty your wallet as  much as buying supplements. Moreover, relying on supplements  for extra protein instead of food will not provide you with any of  the other essential nutrients. The bottom line is that whether you  are an endurance athlete or strength athlete, or just someone who  takes Zumba classes, there is very little need to put your money  into commercially sold protein and amino acid supplements.'"
      ]
     },
     "execution_count": 18,
     "metadata": {},
     "output_type": "execute_result"
    }
   ],
   "source": [
    "\" \".join(context)"
   ]
  },
  {
   "cell_type": "code",
   "execution_count": 19,
   "id": "34014d18",
   "metadata": {},
   "outputs": [
    {
     "data": {
      "text/plain": [
       "[413, 414, 415, 416, 456, 457, 458, 459, 460, 466, 467]"
      ]
     },
     "execution_count": 19,
     "metadata": {},
     "output_type": "execute_result"
    }
   ],
   "source": [
    "context_pages"
   ]
  },
  {
   "cell_type": "code",
   "execution_count": null,
   "id": "9cc9291e",
   "metadata": {},
   "outputs": [],
   "source": []
  }
 ],
 "metadata": {
  "kernelspec": {
   "display_name": "base",
   "language": "python",
   "name": "python3"
  },
  "language_info": {
   "codemirror_mode": {
    "name": "ipython",
    "version": 3
   },
   "file_extension": ".py",
   "mimetype": "text/x-python",
   "name": "python",
   "nbconvert_exporter": "python",
   "pygments_lexer": "ipython3",
   "version": "3.13.5"
  }
 },
 "nbformat": 4,
 "nbformat_minor": 5
}
